{
 "cells": [
  {
   "cell_type": "markdown",
   "id": "99e95c8d",
   "metadata": {},
   "source": [
    "## Simple Linear Regression"
   ]
  },
  {
   "cell_type": "markdown",
   "id": "58a29e58",
   "metadata": {},
   "source": [
    "https://en.wikipedia.org/wiki/Simple_linear_regression"
   ]
  },
  {
   "cell_type": "code",
   "execution_count": 13,
   "id": "422fa937",
   "metadata": {},
   "outputs": [],
   "source": [
    "# Numerical arrays.\n",
    "import numpy as np\n",
    "\n",
    "# Plotting.\n",
    "import matplotlib.pyplot as plt"
   ]
  },
  {
   "cell_type": "markdown",
   "id": "311e9c0c",
   "metadata": {},
   "source": [
    "## Simple Linear Regression\n",
    "\n",
    "$y = mx +c$\n",
    "\n",
    "$y = 2x +1$"
   ]
  },
  {
   "cell_type": "code",
   "execution_count": 22,
   "id": "8a297092",
   "metadata": {},
   "outputs": [],
   "source": [
    "# An array of x values.\n",
    "x = np.linspace(0.0, 10.0, 21)\n",
    "\n",
    "# An array of y values, with noise.\n",
    "y = 2.0 * x + 1.0 + np.random.normal(0.0, 1.0, x.size)\n"
   ]
  },
  {
   "cell_type": "code",
   "execution_count": 23,
   "id": "d5330d9b",
   "metadata": {},
   "outputs": [
    {
     "data": {
      "image/png": "[encoded data removed]",
      "text/plain": [
       "<Figure size 640x480 with 1 Axes>"
      ]
     },
     "metadata": {},
     "output_type": "display_data"
    }
   ],
   "source": [
    "# Create a figure and axis.\n",
    "fig, ax = plt.subplots()\n",
    "\n",
    "# Plot the data.\n",
    "ax.scatter (x, y, marker='.', label='$y= 2x + 1$')\n",
    "\n",
    "# Add legend.\n",
    "ax.legend();"
   ]
  },
  {
   "cell_type": "code",
   "execution_count": 24,
   "id": "202a5fb9",
   "metadata": {},
   "outputs": [
    {
     "data": {
      "text/plain": [
       "array([1.85468949, 1.75575798])"
      ]
     },
     "execution_count": 24,
     "metadata": {},
     "output_type": "execute_result"
    }
   ],
   "source": [
    "# Polyfit.\n",
    "np.polyfit(x, y, 1)"
   ]
  },
  {
   "cell_type": "markdown",
   "id": "1ceae501",
   "metadata": {},
   "source": [
    "# Calculation from WikiPedia\n",
    "https://en.wikipedia.org/wiki/Simple_linear_regression#Formulation_and_computation\n"
   ]
  },
  {
   "cell_type": "code",
   "execution_count": 25,
   "id": "83ac2cec",
   "metadata": {},
   "outputs": [],
   "source": [
    "# X mean.\n",
    "xbar = np.mean(x)\n",
    "\n",
    "# Y mean.\n",
    "ybar = np.mean(y)"
   ]
  },
  {
   "cell_type": "code",
   "execution_count": 26,
   "id": "1ace79ae",
   "metadata": {},
   "outputs": [
    {
     "data": {
      "text/plain": [
       "np.float64(1.8546894943222685)"
      ]
     },
     "execution_count": 26,
     "metadata": {},
     "output_type": "execute_result"
    }
   ],
   "source": [
    "# Numerator.\n",
    "num = np.sum((x - xbar) * (y - ybar))\n",
    "\n",
    "# Denominator.\n",
    "den = np.sum((x - xbar)**2)\n",
    "\n",
    "# Slope.\n",
    "m = num / den\n",
    "\n",
    "# Show.\n",
    "m\n"
   ]
  },
  {
   "cell_type": "code",
   "execution_count": 27,
   "id": "eef0c6ea",
   "metadata": {},
   "outputs": [
    {
     "data": {
      "text/plain": [
       "np.float64(1.7557579824518967)"
      ]
     },
     "execution_count": 27,
     "metadata": {},
     "output_type": "execute_result"
    }
   ],
   "source": [
    "# Intercept.\n",
    "c = ybar - (m * xbar)\n",
    "\n",
    "# Show.\n",
    "c"
   ]
  },
  {
   "cell_type": "markdown",
   "id": "c11be38c",
   "metadata": {},
   "source": [
    "## End"
   ]
  }
 ],
 "metadata": {
  "kernelspec": {
   "display_name": "Python 3",
   "language": "python",
   "name": "python3"
  },
  "language_info": {
   "codemirror_mode": {
    "name": "ipython",
    "version": 3
   },
   "file_extension": ".py",
   "mimetype": "text/x-python",
   "name": "python",
   "nbconvert_exporter": "python",
   "pygments_lexer": "ipython3",
   "version": "3.12.1"
  }
 },
 "nbformat": 4,
 "nbformat_minor": 5
}
