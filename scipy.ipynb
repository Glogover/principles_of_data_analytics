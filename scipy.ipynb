{
 "cells": [
  {
   "cell_type": "markdown",
   "id": "48433f67",
   "metadata": {},
   "source": [
    "## scipy"
   ]
  },
  {
   "cell_type": "code",
   "execution_count": 3,
   "id": "719b5c8c",
   "metadata": {},
   "outputs": [],
   "source": [
    "# Scientific Computing\n",
    "import scipy as sp"
   ]
  },
  {
   "cell_type": "markdown",
   "id": "19002fb7",
   "metadata": {},
   "source": [
    "## Resources\n",
    "\n",
    "https://docs.scipy.org/doc/scipy/tutorial/"
   ]
  },
  {
   "cell_type": "code",
   "execution_count": null,
   "id": "3aefb6d8",
   "metadata": {},
   "outputs": [],
   "source": []
  }
 ],
 "metadata": {
  "kernelspec": {
   "display_name": "Python 3",
   "language": "python",
   "name": "python3"
  },
  "language_info": {
   "codemirror_mode": {
    "name": "ipython",
    "version": 3
   },
   "file_extension": ".py",
   "mimetype": "text/x-python",
   "name": "python",
   "nbconvert_exporter": "python",
   "pygments_lexer": "ipython3",
   "version": "3.12.1"
  }
 },
 "nbformat": 4,
 "nbformat_minor": 5
}
